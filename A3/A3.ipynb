{
 "cells": [
  {
   "attachments": {},
   "cell_type": "markdown",
   "metadata": {},
   "source": [
    "# Loopless Slant Puzzle Game"
   ]
  },
  {
   "attachments": {},
   "cell_type": "markdown",
   "metadata": {},
   "source": [
    "Each player has its own diagonal line where '/' belongs to player 1 and '\\\\' belongs to player 2.\n",
    "When a player’s turn comes, she must place her diagonal line into a single empty cell on the\n",
    "board once. This completes the player’s move. When the move ends; if the number of diagonal lines\n",
    "that intersect at a circle is equal to n (where n is the number on that circle) and no player received a\n",
    "point from that circle before, she gets n points. For every n points she gets, her opponent receives\n",
    "-n points. Note that in this case, a player can get points from a circle at most once, but she can get\n",
    "points from multiple circles with one move."
   ]
  },
  {
   "attachments": {},
   "cell_type": "markdown",
   "metadata": {},
   "source": [
    "### Prepare The Grid"
   ]
  },
  {
   "cell_type": "code",
   "execution_count": 2,
   "metadata": {},
   "outputs": [],
   "source": [
    "# Intersect Matrix can be changed, this is just a representation\n",
    "\n",
    "intersect = [[\"1\", \"*\", \"1\"],\n",
    "             [\"*\", \"2\", \"*\"],\n",
    "             [\"*\", \"*\", \"1\"]]"
   ]
  },
  {
   "cell_type": "code",
   "execution_count": 3,
   "metadata": {},
   "outputs": [],
   "source": [
    "def convert_to_grid(i):\n",
    "\n",
    "    grid = list()\n",
    "\n",
    "    for r in range(len(i) - 1):\n",
    "        temp = list()\n",
    "        for c in range(len(i[0]) - 1):\n",
    "            grid.append(temp)\n",
    "    return grid"
   ]
  },
  {
   "cell_type": "code",
   "execution_count": 4,
   "metadata": {},
   "outputs": [
    {
     "data": {
      "text/plain": [
       "[[], [], [], []]"
      ]
     },
     "execution_count": 4,
     "metadata": {},
     "output_type": "execute_result"
    }
   ],
   "source": [
    "convert_to_grid(intersect)"
   ]
  },
  {
   "cell_type": "code",
   "execution_count": null,
   "metadata": {},
   "outputs": [],
   "source": [
    "class State:\n",
    "    def __init__(self, state, )"
   ]
  },
  {
   "attachments": {},
   "cell_type": "markdown",
   "metadata": {},
   "source": [
    "# Game Tree Search"
   ]
  },
  {
   "cell_type": "code",
   "execution_count": 4,
   "metadata": {},
   "outputs": [],
   "source": [
    "import copy"
   ]
  },
  {
   "cell_type": "code",
   "execution_count": 5,
   "metadata": {},
   "outputs": [],
   "source": [
    "class Node:\n",
    "    def __init__(self, state, parent, turn, point = 0):\n",
    "        self.state = state  #Grid Object\n",
    "        self.turn = turn    #max or min\n",
    "        self.point = point  \n",
    "        self.parent = parent\n",
    "        self.child = list()\n",
    "\n",
    "    def add_child(self, node):\n",
    "        self.child.append(node)"
   ]
  },
  {
   "cell_type": "code",
   "execution_count": 6,
   "metadata": {},
   "outputs": [],
   "source": [
    "class GameTree:\n",
    "    def __init__(self, intersect):\n",
    "        self.grid = Grid(intersect)\n",
    "        self.intersect = intersect\n",
    "        self.init_state = Grid(intersect)\n",
    "\n",
    "    def DeepCopy(self, state):\n",
    "        return [i[:] for i in state]\n",
    "\n",
    "    def is_terminal(self, node):\n",
    "        return node.state.is_full()\n",
    "\n",
    "    def legal_moves(self, node):\n",
    "        legal_move_list = list()\n",
    "        state = node.state \n",
    "        #FILL HERE\n",
    "\n",
    "        print(state)\n",
    "\n",
    "        return (0,0)\n",
    "    \n",
    "    '''\n",
    "    @func state_transition(node, move): outputs the state where applying move on node's state\n",
    "    '''\n",
    "\n",
    "    def get_point(self, curr, prev):\n",
    "        return 0\n",
    "\n",
    "    def state_transition(self, node, move):\n",
    "        state = node.state.grid\n",
    "        state = self.DeepCopy(state)\n",
    "        t = node.turn\n",
    "        \n",
    "        x,y = move # These indices should be legal\n",
    "\n",
    "        if(t == 'max'):\n",
    "            state[x][y].max = 1\n",
    "        else:\n",
    "            state[x][y].min = 1\n",
    "        return state\n",
    "\n",
    "    def succ(self, node):\n",
    "        state_list = []\n",
    "\n",
    "        moves = self.legal_moves(node)\n",
    "\n",
    "        for m in moves:\n",
    "            s = self.state_transition(node, m)\n",
    "            state_list.append(s)\n",
    "\n",
    "        return state_list\n",
    "\n",
    "    def create_tree(self, node):\n",
    "        if(node.state.is_full()):\n",
    "            return\n",
    "        \n",
    "        new_turn = ''\n",
    "\n",
    "        for s in self.succ(node):\n",
    "            \n",
    "            if(node.turn == 'max'):\n",
    "                new_turn = 'min'\n",
    "            else:\n",
    "                new_turn = 'max'\n",
    "            \n",
    "            n = Node(s, node, new_turn)\n",
    "            n.point = self.get_point(n, node)\n",
    "            node.add_child(n)\n",
    "            self.create_tree(n)\n",
    "\n",
    "    def create_full_tree(self, node):\n",
    "        start_node = node\n",
    "        self.create_tree(start_node)\n",
    "        return start_node"
   ]
  },
  {
   "cell_type": "code",
   "execution_count": 7,
   "metadata": {},
   "outputs": [],
   "source": [
    "GT = GameTree(intersect)"
   ]
  },
  {
   "cell_type": "code",
   "execution_count": 8,
   "metadata": {},
   "outputs": [
    {
     "data": {
      "text/plain": [
       "[[<__main__.GridCell at 0x24f946cf9d0>, <__main__.GridCell at 0x24f946cfd00>],\n",
       " [<__main__.GridCell at 0x24f946ce2f0>, <__main__.GridCell at 0x24f946cdd80>]]"
      ]
     },
     "execution_count": 8,
     "metadata": {},
     "output_type": "execute_result"
    }
   ],
   "source": [
    "n = Node(GT.init_state, None, 'max')\n",
    "GT.state_transition(n, (0,0))"
   ]
  },
  {
   "cell_type": "code",
   "execution_count": null,
   "metadata": {},
   "outputs": [],
   "source": []
  }
 ],
 "metadata": {
  "kernelspec": {
   "display_name": "Python 3",
   "language": "python",
   "name": "python3"
  },
  "language_info": {
   "codemirror_mode": {
    "name": "ipython",
    "version": 3
   },
   "file_extension": ".py",
   "mimetype": "text/x-python",
   "name": "python",
   "nbconvert_exporter": "python",
   "pygments_lexer": "ipython3",
   "version": "3.10.2"
  },
  "orig_nbformat": 4
 },
 "nbformat": 4,
 "nbformat_minor": 2
}
