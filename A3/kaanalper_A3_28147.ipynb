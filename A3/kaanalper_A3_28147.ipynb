{
  "nbformat": 4,
  "nbformat_minor": 0,
  "metadata": {
    "colab": {
      "provenance": [],
      "gpuType": "T4"
    },
    "kernelspec": {
      "name": "python3",
      "display_name": "Python 3"
    },
    "language_info": {
      "name": "python"
    },
    "gpuClass": "standard"
  },
  "cells": [
    {
      "cell_type": "markdown",
      "source": [
        "# Preparing Grid"
      ],
      "metadata": {
        "id": "9KIuWr8c9Gsl"
      }
    },
    {
      "cell_type": "code",
      "execution_count": 128,
      "metadata": {
        "id": "F68E-yK771BJ"
      },
      "outputs": [],
      "source": [
        "import copy"
      ]
    },
    {
      "cell_type": "code",
      "source": [
        "# Intersect Matrix can be changed, this is just a representation\n",
        "intersect = [[\"1\", \"*\", \"1\"],\n",
        "             [\"*\", \"3\", \"*\"],\n",
        "             [\"*\", \"1\", \"1\"]]"
      ],
      "metadata": {
        "id": "pQaoactF72Q-"
      },
      "execution_count": 140,
      "outputs": []
    },
    {
      "cell_type": "code",
      "source": [
        "# intersect = [[\"1\", \"*\", \"1\", \"1\"],\n",
        "#              [\"*\", \"3\", \"*\", \"*\"],\n",
        "#              [\"*\", \"*\", \"3\", \"1\"],\n",
        "#              [\"1\", \"*\", \"1\", \"*\"]]"
      ],
      "metadata": {
        "id": "GgOufXj6Fa3c"
      },
      "execution_count": 130,
      "outputs": []
    },
    {
      "cell_type": "code",
      "source": [
        "# intersect = [[\"1\", \"*\", \"1\", \"1\", \"1\"],\n",
        "#              [\"*\", \"3\", \"*\", \"*\", \"1\"],\n",
        "#              [\"*\", \"*\", \"3\", \"1\", \"2\"],\n",
        "#              [\"1\", \"*\", \"1\", \"*\", \"*\"],\n",
        "#              [\"1\", \"*\", \"1\", \"*\", \"1\"]]"
      ],
      "metadata": {
        "id": "EAXOqCu5Dkt9"
      },
      "execution_count": 131,
      "outputs": []
    },
    {
      "cell_type": "code",
      "source": [
        "class GridCell():\n",
        "  def __init__(self):\n",
        "    self.max = 0 # /\n",
        "    self.min = 0 # \\"
      ],
      "metadata": {
        "id": "K_BerOHg73Rf"
      },
      "execution_count": 132,
      "outputs": []
    },
    {
      "cell_type": "code",
      "source": [
        "class Grid():\n",
        "  def __init__(self, intersect):\n",
        "    \n",
        "    self.grid = list()\n",
        "\n",
        "    for i in range(len(intersect) - 1):\n",
        "      temp = list()\n",
        "      for j in range(len(intersect[0]) - 1):\n",
        "        grid_cell = GridCell()\n",
        "        temp.append(grid_cell)\n",
        "      self.grid.append(temp)\n",
        "    \n",
        "  def get_grid(self):\n",
        "    return self.grid"
      ],
      "metadata": {
        "id": "5hl301kd74HC"
      },
      "execution_count": 133,
      "outputs": []
    },
    {
      "cell_type": "markdown",
      "source": [
        "# Game States"
      ],
      "metadata": {
        "id": "95qZ_1Sj9KzV"
      }
    },
    {
      "cell_type": "code",
      "source": [
        "class State():\n",
        "  def __init__(self, point_intersect, intersect, grid, turn, point):\n",
        "    self.grid = grid\n",
        "    self.turn = turn\n",
        "    self.point = point\n",
        "    # self.isTerminal = len(self.grid) * len(self.grid)\n",
        "    self.intersect = intersect\n",
        "    self.point_intersect = copy.deepcopy(point_intersect)\n",
        "  \n",
        "  def __str__(self):\n",
        "    empstr = \"\"\n",
        "    for i in range(len(self.grid)):\n",
        "      for j in range(len(self.grid[0])):\n",
        "        if(self.grid[i][j].max == 0 and self.grid[i][j].min == 0):\n",
        "          empstr += '- '\n",
        "        elif(self.grid[i][j].max == 1):\n",
        "          empstr += '/ '\n",
        "        else:\n",
        "          empstr += '\\\\ '\n",
        "      empstr += '\\n'\n",
        "    empstr += '\\n'\n",
        "    empstr += 'Intersect Matrix: \\n'\n",
        "    for i in range(len(intersect)):\n",
        "      for j in range(len(intersect[0])):\n",
        "        empstr += intersect[i][j] + ' '\n",
        "      empstr += '\\n'\n",
        "    empstr += '\\n'\n",
        "    empstr += 'Current Turn: ' + ('max' if self.turn == 'min' else 'min') + '\\n'\n",
        "    empstr += 'Next Turn: ' + self.turn + '\\n'\n",
        "    empstr += 'point: ' + str(self.point) + '\\n'\n",
        "    return empstr"
      ],
      "metadata": {
        "id": "M9p52fqz76NQ"
      },
      "execution_count": 134,
      "outputs": []
    },
    {
      "cell_type": "markdown",
      "source": [
        "# Game Tree"
      ],
      "metadata": {
        "id": "zjgwuJNH9OWQ"
      }
    },
    {
      "cell_type": "code",
      "source": [
        "class Node():\n",
        "  def __init__(self, state):\n",
        "    self.state = state\n",
        "    self.parent = None\n",
        "    self.child = []"
      ],
      "metadata": {
        "id": "_FjTT_se77M6"
      },
      "execution_count": 135,
      "outputs": []
    },
    {
      "cell_type": "code",
      "source": [
        "class GameTree():\n",
        "  \n",
        "  def __init__(self, intersect):\n",
        "    grid = Grid(intersect)\n",
        "    grid = grid.get_grid()\n",
        "    self.init_state = State(intersect , intersect, grid, 'max', 0)\n",
        "    self.init = copy.deepcopy(self.init_state)\n",
        "    self.start_node = Node(self.init_state)\n",
        "\n",
        "\n",
        "  def generate_legal_moves(self, node):\n",
        "    grid = node.state.grid\n",
        "    legal_move = list()\n",
        "\n",
        "    for i in range(len(grid)):\n",
        "      for j in range(len(grid[0])):\n",
        "        if(grid[i][j].max == 0 and grid[i][j].min == 0):\n",
        "          legal_move.append((i,j))\n",
        "    return legal_move\n",
        "  \n",
        "  def add_point_max(self, point_matrix, intersect, i, j): # / (i+1,j), (i, j+1) : for point\n",
        "    point = 0\n",
        "\n",
        "    if intersect[i+1][j] != '*' and intersect[i][j+1] != '*':\n",
        "      num1 = int(intersect[i+1][j])\n",
        "      num2 = int(intersect[i][j+1])\n",
        "      \n",
        "      if(num1 - 1 == 0):\n",
        "        point += int(point_matrix[i+1][j])\n",
        "      intersect[i+1][j] = str(num1 - 1)\n",
        "      if(num2 - 1 == 0):\n",
        "        point += int(point_matrix[i][j+1])\n",
        "      intersect[i][j+1] = str(num2 - 1)\n",
        "\n",
        "    else:\n",
        "      if intersect[i+1][j] != '*':\n",
        "        num1 = int(intersect[i+1][j])\n",
        "        if(num1 - 1 == 0):\n",
        "          point += int(point_matrix[i+1][j])\n",
        "        intersect[i+1][j] = str(num1 - 1)\n",
        "      elif intersect[i][j+1] != '*':\n",
        "        num2 = int(intersect[i][j+1])\n",
        "        if(num2 - 1 == 0):\n",
        "          point += int(point_matrix[i][j+1])\n",
        "        intersect[i][j+1] = str(num2 - 1)\n",
        "\n",
        "    return point\n",
        "  \n",
        "  def add_point_min(self, point_matrix, intersect, i, j): # \\  (i,j), (i+1, j+1) : for point\n",
        "    point = 0\n",
        "\n",
        "    if intersect[i][j] != '*' and intersect[i+1][j+1] != '*':\n",
        "      num1 = int(intersect[i][j])\n",
        "      num2 = int(intersect[i+1][j+1])\n",
        "      \n",
        "      if(num1 - 1 == 0):\n",
        "        point += int(point_matrix[i][j])\n",
        "      intersect[i][j] = str(num1 - 1)\n",
        "      if(num2 - 1 == 0):\n",
        "        point += int(point_matrix[i+1][j+1])\n",
        "      intersect[i+1][j+1] = str(num2 - 1)\n",
        "\n",
        "    else:\n",
        "      if intersect[i][j] != '*':\n",
        "        num1 = int(intersect[i][j])\n",
        "        if(num1 - 1 == 0):\n",
        "          point += int(point_matrix[i][j])\n",
        "        intersect[i][j] = str(num1 - 1)\n",
        "      elif intersect[i+1][j+1] != '*':\n",
        "        num2 = int(intersect[i+1][j+1])\n",
        "        if(num2 - 1 == 0):\n",
        "          point += int(point_matrix[i+1][j+1])\n",
        "        intersect[i+1][j+1] = str(num2 - 1)\n",
        "\n",
        "    return point\n",
        "\n",
        "  def state_transition(self, state, move):\n",
        "    state = copy.deepcopy(state)\n",
        "    i, j = move\n",
        "    turn = state.turn\n",
        "    point = -(state.point)\n",
        "    intersect_matrix = copy.deepcopy(state.intersect)\n",
        "    point_matrix = state.point_intersect\n",
        "\n",
        "    if state.turn == \"max\":\n",
        "      state.grid[i][j].max = 1 # / (i+1,j), (i, j+1) : for point\n",
        "      turn = 'min'\n",
        "      #point\n",
        "      point = point + self.add_point_max(point_matrix, intersect_matrix, i, j)\n",
        "\n",
        "    else:\n",
        "      state.grid[i][j].min = 1 # \\  (i,j), (i+1, j+1) : for point\n",
        "      turn = 'max'  \n",
        "      #point\n",
        "      point = point + self.add_point_min(point_matrix, intersect_matrix, i, j)\n",
        "\n",
        "    new_state = State(point_matrix, intersect_matrix, state.grid, turn, point)\n",
        "    return new_state\n",
        "\n",
        "  def succ(self, node):\n",
        "    state = node.state\n",
        "    legal_moves = self.generate_legal_moves(node)\n",
        "    successors = list()\n",
        "\n",
        "    for move in legal_moves:\n",
        "      new_state = self.state_transition(state, move)\n",
        "      successors.append(new_state)  \n",
        "\n",
        "    return successors\n",
        "  \n",
        "  def is_terminal(self, node):\n",
        "    grid = node.state.grid\n",
        "    for i in range(len(grid)):\n",
        "      for j in range(len(grid[0])):\n",
        "        if(grid[i][j].max == 0 and grid[i][j].min == 0):\n",
        "          return False \n",
        "    return True\n",
        "\n",
        "  def create_tree_recursively(self, node):\n",
        "\n",
        "    if(self.is_terminal(node)):\n",
        "      return node\n",
        "    \n",
        "    for state in self.succ(node):\n",
        "      new_node = Node(state)\n",
        "      new_node.parent = node\n",
        "      node.child.append(new_node)\n",
        "    \n",
        "      self.create_tree_recursively(new_node)\n",
        "\n",
        "  def generate_search_tree(self):\n",
        "    self.create_tree_recursively(self.start_node)\n",
        "    return self.start_node\n",
        "    \n",
        "  def utility(self, node):\n",
        "    return (-1 * node.state.point)\n",
        "  \n",
        "  def evaluate(self, node):\n",
        "    e = 0\n",
        "    if(node.state.turn == 'max'):\n",
        "      e = self.max_eval(node, float('-inf'), float('inf'))\n",
        "    else:\n",
        "      e = self.min_eval(node, float('-inf'), float('inf'))\n",
        "    return e\n",
        "    \n",
        "  def max_eval(self, node, alpha, beta):\n",
        "    if self.is_terminal(node):\n",
        "      return self.utility(node)\n",
        "    for child in node.child:\n",
        "      val = self.min_eval(child, alpha, beta)\n",
        "      alpha = max(alpha, val)\n",
        "      if(alpha >= beta):\n",
        "        return alpha\n",
        "    return alpha\n",
        "    \n",
        "  def min_eval(self, node, alpha, beta):\n",
        "    if self.is_terminal(node):\n",
        "      return self.utility(node)\n",
        "    for child in node.child:\n",
        "      val = self.max_eval(child, alpha, beta)\n",
        "      beta = min(beta, val)\n",
        "      if(alpha >= beta):\n",
        "        return beta\n",
        "    return beta\n",
        "\n"
      ],
      "metadata": {
        "id": "7wb62jx578KJ"
      },
      "execution_count": 141,
      "outputs": []
    },
    {
      "cell_type": "markdown",
      "source": [
        "# Game"
      ],
      "metadata": {
        "id": "te9pFsrc9RHR"
      }
    },
    {
      "cell_type": "code",
      "source": [
        "class Game():\n",
        "\n",
        "  def __init__(self, intersect):\n",
        "    self.GameTree = GameTree(intersect)\n",
        "    self.game_tree = self.GameTree.generate_search_tree()\n",
        "\n",
        "  def play(self):\n",
        "    terminate = False\n",
        "    turn = True #max\n",
        "    \n",
        "    isEvenGrid = False\n",
        "\n",
        "    num = len(self.game_tree.state.grid) * len(self.game_tree.state.grid) \n",
        "\n",
        "    if(num % 2 == 0):\n",
        "      isEvenGrid = True\n",
        "    else:\n",
        "      isEvenGrid = False\n",
        "\n",
        "\n",
        "    player = int(input('If you want to be a start player enter 1 else 2: '))\n",
        "\n",
        "    print(\"Initial Game State: \")\n",
        "    print(self.game_tree.state)\n",
        "    \n",
        "    if(player == 1):\n",
        "      #player starts\n",
        "      current_node = self.game_tree\n",
        "      while(not self.GameTree.is_terminal(current_node)):\n",
        "\n",
        "        if(turn):\n",
        "          print(\"-----------------------------------Player Turn (max)\")\n",
        "          legal_moves = self.GameTree.generate_legal_moves(current_node)\n",
        "          print(\"Legal moves to be played: \", legal_moves)\n",
        "          move = int(input('Which move you want to play: '))\n",
        "\n",
        "          current_node = current_node.child[move]\n",
        "          print(\"Played Move:\")\n",
        "          print(current_node.state)\n",
        "          print(\"-----------------------------------Player Turn over\")\n",
        "\n",
        "\n",
        "          turn = False\n",
        "        else:\n",
        "          print(\"-----------------------------------AI Turn (min)\")\n",
        "          legal_moves = self.GameTree.generate_legal_moves(current_node)\n",
        "          print(\"Legal moves to be played: \", legal_moves)\n",
        "\n",
        "          eval_list = [self.GameTree.evaluate(c) for c in current_node.child]\n",
        "\n",
        "          max_index = eval_list.index(min(eval_list))  #It goes for this part since the grid is even\n",
        "          current_node = current_node.child[max_index]\n",
        "\n",
        "          print(\"Played Move:\")\n",
        "          print(current_node.state)\n",
        "          print(\"-----------------------------------AI Turn over\")\n",
        "\n",
        "          turn = True\n",
        "\n",
        "      if(isEvenGrid):\n",
        "        if(current_node.state.point < 0):\n",
        "          print(\"Player wins the game with point: \" , -current_node.state.point)\n",
        "        elif(current_node.state.point > 0):\n",
        "          print(\"Computer wins the game with point: \" , current_node.state.point)\n",
        "        else:\n",
        "          print('Draw! Both points are 0.')\n",
        "      else:\n",
        "        if(current_node.state.point < 0):\n",
        "          print(\"Computer wins the game with point: \" , -current_node.state.point)\n",
        "        elif(current_node.state.point > 0):\n",
        "          print(\"Player wins the game with point: \" , current_node.state.point)\n",
        "        else:\n",
        "          print('Draw! Both points are 0.')\n",
        "    else:\n",
        "      #Ai starts\n",
        "      current_node = self.game_tree\n",
        "      while(not self.GameTree.is_terminal(current_node)):\n",
        "\n",
        "        if(turn):\n",
        "          print(\"-----------------------------------AI Turn (max)\")\n",
        "          legal_moves = self.GameTree.generate_legal_moves(current_node)\n",
        "          print(\"Legal moves to be played: \", legal_moves)\n",
        "\n",
        "          eval_list = [self.GameTree.evaluate(c) for c in current_node.child]\n",
        "          \n",
        "          \n",
        "          min_index = eval_list.index(max(eval_list))  # It goes for this part since the grid is even\n",
        "          current_node = current_node.child[min_index]\n",
        "          print(\"Played Move:\")\n",
        "          print(current_node.state)\n",
        "          print(\"-----------------------------------AI Turn over\")\n",
        "\n",
        "          turn = False\n",
        "        else:\n",
        "          print(\"-----------------------------------Player Turn (min)\")\n",
        "\n",
        "          legal_moves = self.GameTree.generate_legal_moves(current_node)\n",
        "          print(\"Legal moves to be played: \", legal_moves)\n",
        "          move = int(input('Which move you want to play: '))\n",
        "\n",
        "          current_node = current_node.child[move]\n",
        "          print(\"Played Move:\")\n",
        "          print(current_node.state)\n",
        "          print(\"-----------------------------------Player Turn over\")\n",
        "          turn = True\n",
        "      if(isEvenGrid):\n",
        "        if(current_node.state.point < 0):\n",
        "          print(\"Computer wins the game with point: \" , -current_node.state.point)\n",
        "        elif(current_node.state.point > 0):\n",
        "          print(\"Player wins the game with point: \" , current_node.state.point)\n",
        "        else:\n",
        "          print('Draw! Both points are 0.')\n",
        "      else:\n",
        "        if(current_node.state.point < 0):\n",
        "          print(\"Player wins the game with point: \" , -current_node.state.point)\n",
        "        elif(current_node.state.point > 0):\n",
        "          print(\"Computer wins the game with point: \" , current_node.state.point)\n",
        "        else:\n",
        "          print('Draw! Both points are 0.')"
      ],
      "metadata": {
        "id": "NSUIb90679GN"
      },
      "execution_count": 142,
      "outputs": []
    },
    {
      "cell_type": "code",
      "source": [
        "game = Game(intersect)"
      ],
      "metadata": {
        "id": "rtUmsH607-lY"
      },
      "execution_count": 143,
      "outputs": []
    },
    {
      "cell_type": "code",
      "source": [
        "game.play()"
      ],
      "metadata": {
        "colab": {
          "base_uri": "https://localhost:8080/"
        },
        "id": "pPMZ_TLbFvOg",
        "outputId": "efd99923-0e95-4028-ab1e-08b481c658da"
      },
      "execution_count": 144,
      "outputs": [
        {
          "output_type": "stream",
          "name": "stdout",
          "text": [
            "If you want to be a start player enter 1 else 2: 2\n",
            "Initial Game State: \n",
            "- - \n",
            "- - \n",
            "\n",
            "Intersect Matrix: \n",
            "1 * 1 \n",
            "* 3 * \n",
            "* 1 1 \n",
            "\n",
            "Current Turn: min\n",
            "Next Turn: max\n",
            "point: 0\n",
            "\n",
            "-----------------------------------AI Turn (max)\n",
            "Legal moves to be played:  [(0, 0), (0, 1), (1, 0), (1, 1)]\n",
            "Played Move:\n",
            "- - \n",
            "- / \n",
            "\n",
            "Intersect Matrix: \n",
            "1 * 1 \n",
            "* 3 * \n",
            "* 1 1 \n",
            "\n",
            "Current Turn: max\n",
            "Next Turn: min\n",
            "point: 1\n",
            "\n",
            "-----------------------------------AI Turn over\n",
            "-----------------------------------Player Turn (min)\n",
            "Legal moves to be played:  [(0, 0), (0, 1), (1, 0)]\n",
            "Which move you want to play: 0\n",
            "Played Move:\n",
            "\\ - \n",
            "- / \n",
            "\n",
            "Intersect Matrix: \n",
            "1 * 1 \n",
            "* 3 * \n",
            "* 1 1 \n",
            "\n",
            "Current Turn: min\n",
            "Next Turn: max\n",
            "point: 0\n",
            "\n",
            "-----------------------------------Player Turn over\n",
            "-----------------------------------AI Turn (max)\n",
            "Legal moves to be played:  [(0, 1), (1, 0)]\n",
            "Played Move:\n",
            "\\ / \n",
            "- / \n",
            "\n",
            "Intersect Matrix: \n",
            "1 * 1 \n",
            "* 3 * \n",
            "* 1 1 \n",
            "\n",
            "Current Turn: max\n",
            "Next Turn: min\n",
            "point: 1\n",
            "\n",
            "-----------------------------------AI Turn over\n",
            "-----------------------------------Player Turn (min)\n",
            "Legal moves to be played:  [(1, 0)]\n",
            "Which move you want to play: 0\n",
            "Played Move:\n",
            "\\ / \n",
            "\\ / \n",
            "\n",
            "Intersect Matrix: \n",
            "1 * 1 \n",
            "* 3 * \n",
            "* 1 1 \n",
            "\n",
            "Current Turn: min\n",
            "Next Turn: max\n",
            "point: -1\n",
            "\n",
            "-----------------------------------Player Turn over\n",
            "Computer wins the game with point:  1\n"
          ]
        }
      ]
    },
    {
      "cell_type": "code",
      "source": [],
      "metadata": {
        "id": "yn9gFvP3RERd"
      },
      "execution_count": 144,
      "outputs": []
    },
    {
      "cell_type": "markdown",
      "source": [
        "----------------------------------------------------------------------------------------------------------------------------------------------------------------"
      ],
      "metadata": {
        "id": "XzjMM_zeTRN3"
      }
    },
    {
      "cell_type": "markdown",
      "source": [
        "----------------------------------------------------------------------------------------------------------------------------------------------------------------"
      ],
      "metadata": {
        "id": "0NdzoPaGTRKz"
      }
    },
    {
      "cell_type": "markdown",
      "source": [
        "----------------------------------------------------------------------------------------------------------------------------------------------------------------"
      ],
      "metadata": {
        "id": "fHdv-Rs5TRHs"
      }
    },
    {
      "cell_type": "markdown",
      "source": [
        "----------------------------------------------------------------------------------------------------------------------------------------------------------------"
      ],
      "metadata": {
        "id": "HF4bEOJ1TREd"
      }
    },
    {
      "cell_type": "markdown",
      "source": [
        "----------------------------------------------------------------------------------------------------------------------------------------------------------------"
      ],
      "metadata": {
        "id": "MvaiEl2JTRCS"
      }
    },
    {
      "cell_type": "markdown",
      "source": [
        "----------------------------------------------------------------------------------------------------------------------------------------------------------------"
      ],
      "metadata": {
        "id": "dX24g2DPTRAL"
      }
    },
    {
      "cell_type": "markdown",
      "source": [
        "----------------------------------------------------------------------------------------------------------------------------------------------------------------"
      ],
      "metadata": {
        "id": "DunG46qBTQ9q"
      }
    },
    {
      "cell_type": "markdown",
      "source": [
        "----------------------------------------------------------------------------------------------------------------------------------------------------------------"
      ],
      "metadata": {
        "id": "VLCspVPVWJxm"
      }
    },
    {
      "cell_type": "markdown",
      "source": [
        "----------------------------------------------------------------------------------------------------------------------------------------------------------------"
      ],
      "metadata": {
        "id": "iqFjXlUzWKKm"
      }
    },
    {
      "cell_type": "markdown",
      "source": [
        "----------------------------------------------------------------------------------------------------------------------------------------------------------------"
      ],
      "metadata": {
        "id": "LrTuIAq3WKeI"
      }
    }
  ]
}